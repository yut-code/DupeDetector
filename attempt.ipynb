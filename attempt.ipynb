{
 "cells": [
  {
   "cell_type": "code",
   "execution_count": 1,
   "id": "d9eb5fbe",
   "metadata": {
    "scrolled": true
   },
   "outputs": [],
   "source": [
    "import pandas as pd\n",
    "from sklearn.tree import DecisionTreeClassifier\n",
    "from sklearn.model_selection import train_test_split\n",
    "from sklearn.metrics import accuracy_score\n",
    "from sklearn.feature_extraction.text import TfidfVectorizer\n",
    "import pickle"
   ]
  },
  {
   "cell_type": "code",
   "execution_count": 2,
   "id": "9c434fe8",
   "metadata": {},
   "outputs": [],
   "source": [
    "#datasets\n",
    "real = pd.read_csv('True.csv')\n",
    "fake = pd.read_csv('Fake.csv')"
   ]
  },
  {
   "cell_type": "code",
   "execution_count": 3,
   "id": "38d30901",
   "metadata": {},
   "outputs": [],
   "source": [
    "#add a column to data to indicate if it's from the real or fake news sets\n",
    "fake['type'] = 0\n",
    "real['type'] = 1"
   ]
  },
  {
   "cell_type": "code",
   "execution_count": 4,
   "id": "4ecee0c8",
   "metadata": {},
   "outputs": [],
   "source": [
    "modify_text = [real['text'][i].replace('WASHINGTON (Reuters) - ', '').replace('BRUSSELS (Reuters) - ', '').replace('MINSK (Reuters) - ', '').replace('MOSCOW (Reuters) - ', '').replace('JAKARTA (Reuters) - ', '').replace('LONDON (Reuters) - ', '').replace('(Reuters) - ','').replace('LIMA (Reuters) - ','').replace('SAN FRANCISCO (Reuters) - ','').replace('MEXICO CITY (Reuters) - ','') for i in range(len(real['text']))]\n",
    "real['text'] = modify_text"
   ]
  },
  {
   "cell_type": "code",
   "execution_count": 5,
   "id": "1ed580d6",
   "metadata": {
    "scrolled": false
   },
   "outputs": [
    {
     "data": {
      "text/html": [
       "<div>\n",
       "<style scoped>\n",
       "    .dataframe tbody tr th:only-of-type {\n",
       "        vertical-align: middle;\n",
       "    }\n",
       "\n",
       "    .dataframe tbody tr th {\n",
       "        vertical-align: top;\n",
       "    }\n",
       "\n",
       "    .dataframe thead th {\n",
       "        text-align: right;\n",
       "    }\n",
       "</style>\n",
       "<table border=\"1\" class=\"dataframe\">\n",
       "  <thead>\n",
       "    <tr style=\"text-align: right;\">\n",
       "      <th></th>\n",
       "      <th>title</th>\n",
       "      <th>text</th>\n",
       "      <th>type</th>\n",
       "    </tr>\n",
       "  </thead>\n",
       "  <tbody>\n",
       "    <tr>\n",
       "      <th>0</th>\n",
       "      <td>Trump expected to nominate attorney Sullivan a...</td>\n",
       "      <td>President Donald Trump is expected to nominate...</td>\n",
       "      <td>1</td>\n",
       "    </tr>\n",
       "    <tr>\n",
       "      <th>1</th>\n",
       "      <td>[VIDEO] WHAT JERRY SEINFELD HAS TO SAY ABOUT O...</td>\n",
       "      <td>Kids Just Want To Use Words  That s racist, th...</td>\n",
       "      <td>0</td>\n",
       "    </tr>\n",
       "    <tr>\n",
       "      <th>2</th>\n",
       "      <td>Puerto Rico enacts emergency debt moratorium bill</td>\n",
       "      <td>SAN JUAN Puerto Rico’s governor on Wednesday s...</td>\n",
       "      <td>1</td>\n",
       "    </tr>\n",
       "    <tr>\n",
       "      <th>3</th>\n",
       "      <td>TUCKER CARLSON Exposes Radical Middle School T...</td>\n",
       "      <td>Tonight, Tucker Carlson took on Yvette Felarca...</td>\n",
       "      <td>0</td>\n",
       "    </tr>\n",
       "    <tr>\n",
       "      <th>4</th>\n",
       "      <td>“President Trump Fights Fire with Fire” Sarah ...</td>\n",
       "      <td>John Roberts was first to question the tweets ...</td>\n",
       "      <td>0</td>\n",
       "    </tr>\n",
       "    <tr>\n",
       "      <th>...</th>\n",
       "      <td>...</td>\n",
       "      <td>...</td>\n",
       "      <td>...</td>\n",
       "    </tr>\n",
       "    <tr>\n",
       "      <th>44893</th>\n",
       "      <td>Australia arrests man accused of trying to sel...</td>\n",
       "      <td>MELBOURNE Australian police said on Sunday the...</td>\n",
       "      <td>1</td>\n",
       "    </tr>\n",
       "    <tr>\n",
       "      <th>44894</th>\n",
       "      <td>Watch Joe Biden Take Trump’s Own Words And Te...</td>\n",
       "      <td>If there s anyone in this day and age who most...</td>\n",
       "      <td>0</td>\n",
       "    </tr>\n",
       "    <tr>\n",
       "      <th>44895</th>\n",
       "      <td>Australians give up 51,000 illegal guns as gov...</td>\n",
       "      <td>SYDNEY Australians turned in 51,000 illegal fi...</td>\n",
       "      <td>1</td>\n",
       "    </tr>\n",
       "    <tr>\n",
       "      <th>44896</th>\n",
       "      <td>A kiss is not just a kiss on Cleveland convent...</td>\n",
       "      <td>CLEVELAND In an age of social media and sound ...</td>\n",
       "      <td>1</td>\n",
       "    </tr>\n",
       "    <tr>\n",
       "      <th>44897</th>\n",
       "      <td>WATCH Barry Lose His Cool During Interview Abo...</td>\n",
       "      <td>Wow! What s more shocking the fact that a memb...</td>\n",
       "      <td>0</td>\n",
       "    </tr>\n",
       "  </tbody>\n",
       "</table>\n",
       "<p>44898 rows × 3 columns</p>\n",
       "</div>"
      ],
      "text/plain": [
       "                                                   title  \\\n",
       "0      Trump expected to nominate attorney Sullivan a...   \n",
       "1      [VIDEO] WHAT JERRY SEINFELD HAS TO SAY ABOUT O...   \n",
       "2      Puerto Rico enacts emergency debt moratorium bill   \n",
       "3      TUCKER CARLSON Exposes Radical Middle School T...   \n",
       "4      “President Trump Fights Fire with Fire” Sarah ...   \n",
       "...                                                  ...   \n",
       "44893  Australia arrests man accused of trying to sel...   \n",
       "44894   Watch Joe Biden Take Trump’s Own Words And Te...   \n",
       "44895  Australians give up 51,000 illegal guns as gov...   \n",
       "44896  A kiss is not just a kiss on Cleveland convent...   \n",
       "44897  WATCH Barry Lose His Cool During Interview Abo...   \n",
       "\n",
       "                                                    text  type  \n",
       "0      President Donald Trump is expected to nominate...     1  \n",
       "1      Kids Just Want To Use Words  That s racist, th...     0  \n",
       "2      SAN JUAN Puerto Rico’s governor on Wednesday s...     1  \n",
       "3      Tonight, Tucker Carlson took on Yvette Felarca...     0  \n",
       "4      John Roberts was first to question the tweets ...     0  \n",
       "...                                                  ...   ...  \n",
       "44893  MELBOURNE Australian police said on Sunday the...     1  \n",
       "44894  If there s anyone in this day and age who most...     0  \n",
       "44895  SYDNEY Australians turned in 51,000 illegal fi...     1  \n",
       "44896  CLEVELAND In an age of social media and sound ...     1  \n",
       "44897  Wow! What s more shocking the fact that a memb...     0  \n",
       "\n",
       "[44898 rows x 3 columns]"
      ]
     },
     "execution_count": 5,
     "metadata": {},
     "output_type": "execute_result"
    }
   ],
   "source": [
    "df = pd.concat([fake, real], axis=0) #combine the two datasets into one, x axis\n",
    "df = df.drop(columns=['subject', 'date']) # drop subject and date column\n",
    "df = df.sample(frac = 1) #shuffle data\n",
    "df = df.reset_index(drop=True) #drops the current index of the df and replaces it with an index of increasing integers, because data is shuffled/out of order\n",
    "df"
   ]
  },
  {
   "cell_type": "code",
   "execution_count": 6,
   "id": "c2b9073e",
   "metadata": {},
   "outputs": [],
   "source": [
    "X = df['text'] #input set\n",
    "y = df['type'] #output set"
   ]
  },
  {
   "cell_type": "code",
   "execution_count": 8,
   "id": "a1349da0",
   "metadata": {
    "scrolled": false
   },
   "outputs": [
    {
     "name": "stdout",
     "output_type": "stream",
     "text": [
      "Accuracy score: 94.57 %\n"
     ]
    }
   ],
   "source": [
    "X_train, X_test, y_train, y_test = train_test_split(X, y, test_size=0.2, shuffle = True ) #split into train and test \n",
    "\n",
    "# Convert text to vectors\n",
    "vectorization = TfidfVectorizer(stop_words='english', max_df=0.7)\n",
    "Xv_train = vectorization.fit_transform(X_train)\n",
    "Xv_test = vectorization.transform(X_test)\n",
    "\n",
    "# train model & calculate accuracy\n",
    "model = DecisionTreeClassifier()\n",
    "model.fit(Xv_train, y_train)\n",
    "predictions = model.predict(Xv_test)\n",
    "score = accuracy_score(y_test, predictions)\n",
    "print(\"Accuracy score: {0:.2f} %\".format(100 * score))"
   ]
  },
  {
   "cell_type": "code",
   "execution_count": 31,
   "id": "6a5f4e4a",
   "metadata": {
    "scrolled": true
   },
   "outputs": [
    {
     "name": "stdout",
     "output_type": "stream",
     "text": [
      "Kenya’s main opposition party warned the election commission against reorganising voting in four western counties where polls did not open on Thursday due to violence and said supporters should boycott any process that goes ahead.\n"
     ]
    }
   ],
   "source": [
    "news = input()"
   ]
  },
  {
   "cell_type": "code",
   "execution_count": 17,
   "id": "4a668acf",
   "metadata": {},
   "outputs": [],
   "source": [
    "def ouiOuNon(n):\n",
    "    if n == 0:\n",
    "        print(\"Seems like fake news...\")\n",
    "    else:\n",
    "        print(\"This seems real to me!\")\n",
    "        "
   ]
  },
  {
   "cell_type": "code",
   "execution_count": 14,
   "id": "c3a9c1b4",
   "metadata": {},
   "outputs": [],
   "source": [
    "def detect(test):\n",
    "    vector_test = vectorization.transform([test])\n",
    "    prediction = model.predict(vector_test)\n",
    "    return prediction"
   ]
  },
  {
   "cell_type": "code",
   "execution_count": 32,
   "id": "3d22ac80",
   "metadata": {},
   "outputs": [
    {
     "name": "stdout",
     "output_type": "stream",
     "text": [
      "This seems real to me!\n"
     ]
    }
   ],
   "source": [
    "ouiOuNon(detect(news))"
   ]
  },
  {
   "cell_type": "code",
   "execution_count": 26,
   "id": "13b4bdae",
   "metadata": {},
   "outputs": [
    {
     "name": "stdout",
     "output_type": "stream",
     "text": [
      "Since then, the Russia investigation has revealed a sprawling scandal: Members of Trump’s campaign, including those in the president’s inner circle, were in constant contact with representatives of the Russian government throughout the election and transition. The two campaigns discussed tactics and policy, including the release of “dirt” on their mutual opponent, Hillary Clinton, and rolling back American sanctions against Russia. And they executed their strategies timed to maximally benefit Trump’s chances of victory.\n"
     ]
    }
   ],
   "source": [
    "news = input()"
   ]
  },
  {
   "cell_type": "code",
   "execution_count": 27,
   "id": "1692b847",
   "metadata": {},
   "outputs": [
    {
     "name": "stdout",
     "output_type": "stream",
     "text": [
      "Seems like fake news...\n"
     ]
    }
   ],
   "source": [
    "ouiOuNon(detect(news))"
   ]
  },
  {
   "cell_type": "code",
   "execution_count": 9,
   "id": "347bb4b2",
   "metadata": {},
   "outputs": [],
   "source": [
    "filename = 'model.pkl'\n",
    "file_obj = open(filename, 'wb')\n",
    "pickle.dump(model, file_obj)\n",
    "v = 'tfidf_vectorizer.pickle'\n",
    "v_obj = open(v, 'wb')\n",
    "pickle.dump(vectorization, v_obj)\n",
    "file_obj.close()\n",
    "v_obj.close()\n"
   ]
  },
  {
   "cell_type": "code",
   "execution_count": null,
   "id": "6aef5479",
   "metadata": {},
   "outputs": [],
   "source": []
  }
 ],
 "metadata": {
  "kernelspec": {
   "display_name": "Python 3",
   "language": "python",
   "name": "python3"
  },
  "language_info": {
   "codemirror_mode": {
    "name": "ipython",
    "version": 3
   },
   "file_extension": ".py",
   "mimetype": "text/x-python",
   "name": "python",
   "nbconvert_exporter": "python",
   "pygments_lexer": "ipython3",
   "version": "3.8.8"
  }
 },
 "nbformat": 4,
 "nbformat_minor": 5
}
